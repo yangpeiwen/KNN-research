{
 "cells": [
  {
   "cell_type": "code",
   "execution_count": 1,
   "id": "af00366e",
   "metadata": {},
   "outputs": [],
   "source": [
    "import pandas as pd\n",
    "import math\n",
    "import operator"
   ]
  },
  {
   "cell_type": "code",
   "execution_count": 2,
   "id": "54305b7a",
   "metadata": {},
   "outputs": [],
   "source": [
    "def get_data(file_name):\n",
    "    file=open(file_name,'r')\n",
    "    lines=file.readlines()\n",
    "    data=[]\n",
    "    for line in lines:\n",
    "        temp1=line.strip('\\n')\n",
    "        temp2=temp1.split('\\t')\n",
    "        data.append(temp2)\n",
    "    total=[]\n",
    "    if file_name in ['mnist.scale', 'mnist.scale.t']:\n",
    "        dict_1={}\n",
    "        for i in range(784):\n",
    "            a=str(i+1)\n",
    "            dict_1[a]=0.0\n",
    "        total.append(dict_1)\n",
    "    for i in range(len(data)):\n",
    "        data_sep=[]\n",
    "        data_sep.append(data[i][0].split(' '))\n",
    "        data_sep[0] = list(filter(None, data_sep[0]))\n",
    "        new_dict={}\n",
    "        new_dict['label']=float(data_sep[0][0])\n",
    "        for j in range(len(data_sep[0])-1):\n",
    "            a=[]\n",
    "            a.append(data_sep[0][j+1].split(':'))\n",
    "            new_dict[a[0][0]]=float(a[0][1])\n",
    "        total.append(new_dict)\n",
    "    df=pd.DataFrame(total)\n",
    "    df=df.fillna(0.0)\n",
    "    if file_name in ['mnist.scale', 'mnist.scale.t']:\n",
    "        df=df.drop(index=(df.loc[(df['label']==0.0)].index))\n",
    "    df=df.sort_index(axis=1,ascending=True)\n",
    "    df_list=df.values.tolist()\n",
    "    return df_list"
   ]
  },
  {
   "cell_type": "code",
   "execution_count": 3,
   "id": "09875e07",
   "metadata": {},
   "outputs": [],
   "source": [
    "import numpy as np\n",
    "def euclideanDistance(x,y):\n",
    "    x=np.array(x[0:-1])\n",
    "    y=np.array(y[0:-1])\n",
    "    dist = np.sqrt(np.sum(np.square(x-y)))\n",
    "    return dist"
   ]
  },
  {
   "cell_type": "code",
   "execution_count": 4,
   "id": "20852e08",
   "metadata": {},
   "outputs": [],
   "source": [
    "def knn_brute_search(train_set,test_set,k,prediction):\n",
    "    distance=[]\n",
    "    for i in range(len(train_set)):\n",
    "        dist=euclideanDistance(test_set,train_set[i])\n",
    "        distance.append((train_set[i][-1],dist))\n",
    "    distance.sort(key=operator.itemgetter(1))\n",
    "    neighbors=[]\n",
    "    \n",
    "    for i in range(k):\n",
    "        neighbors.append(distance[i][0])\n",
    "    result=max(neighbors,key=neighbors.count)\n",
    "\n",
    "    prediction.append(result)\n",
    "    return prediction"
   ]
  },
  {
   "cell_type": "code",
   "execution_count": 5,
   "id": "23312bc2",
   "metadata": {},
   "outputs": [],
   "source": [
    "from sklearn.metrics import accuracy_score\n",
    "import numpy as np\n",
    "def get_accuracy(test_set,prediction):\n",
    "    a=np.array(test_set)\n",
    "    b=[i[-1] for i in a]\n",
    "\n",
    "    return accuracy_score(b,prediction)"
   ]
  },
  {
   "cell_type": "code",
   "execution_count": 6,
   "id": "ca853b76",
   "metadata": {},
   "outputs": [
    {
     "name": "stdout",
     "output_type": "stream",
     "text": [
      "accuracy: 0.962\n",
      "run_time: 296.49465219999996\n"
     ]
    }
   ],
   "source": [
    "import timeit\n",
    "import random\n",
    "train_set=get_data('ijcnn1.tr')\n",
    "test_set_total=get_data('ijcnn1.t')\n",
    "test_set=random.sample(test_set_total,1000)\n",
    "k=5\n",
    "prediction=[]\n",
    "start=timeit.default_timer()\n",
    "for i in range(len(test_set)):\n",
    "    prediction=knn_brute_search(train_set,test_set[i],k,prediction)\n",
    "accuracy=get_accuracy(test_set,prediction)\n",
    "stop=timeit.default_timer()\n",
    "run_time=stop-start\n",
    "print('accuracy:',accuracy)\n",
    "print('run_time:',run_time)"
   ]
  },
  {
   "cell_type": "code",
   "execution_count": 7,
   "id": "b1c52db3",
   "metadata": {},
   "outputs": [
    {
     "name": "stdout",
     "output_type": "stream",
     "text": [
      "accuracy: 0.965\n",
      "run_time: 3673.3489688\n"
     ]
    }
   ],
   "source": [
    "import timeit\n",
    "import random\n",
    "train_set=get_data('mnist.scale')\n",
    "test_set_total=get_data('mnist.scale.t')\n",
    "test_set=random.sample(test_set_total,1000)\n",
    "k=5\n",
    "prediction=[]\n",
    "start=timeit.default_timer()\n",
    "for i in range(len(test_set)):\n",
    "    prediction=knn_brute_search(train_set,test_set[i],k,prediction)\n",
    "accuracy=get_accuracy(test_set,prediction)\n",
    "stop=timeit.default_timer()\n",
    "run_time=stop-start\n",
    "print('accuracy:',accuracy)\n",
    "print('run_time:',run_time)"
   ]
  },
  {
   "cell_type": "code",
   "execution_count": 8,
   "id": "a8366ca7",
   "metadata": {},
   "outputs": [
    {
     "name": "stdout",
     "output_type": "stream",
     "text": [
      "accuracy: 0.999\n",
      "run_time: 208.67239079999945\n"
     ]
    }
   ],
   "source": [
    "import timeit\n",
    "import random\n",
    "train_set=get_data('shuttle.scale.tr')\n",
    "test_set_total=get_data('shuttle.scale.t')\n",
    "test_set=random.sample(test_set_total,1000)\n",
    "k=5\n",
    "prediction=[]\n",
    "start=timeit.default_timer()\n",
    "for i in range(len(test_set)):\n",
    "    prediction=knn_brute_search(train_set,test_set[i],k,prediction)\n",
    "accuracy=get_accuracy(test_set,prediction)\n",
    "stop=timeit.default_timer()\n",
    "run_time=stop-start\n",
    "print('accuracy:',accuracy)\n",
    "print('run_time:',run_time)"
   ]
  }
 ],
 "metadata": {
  "kernelspec": {
   "display_name": "Python 3 (ipykernel)",
   "language": "python",
   "name": "python3"
  },
  "language_info": {
   "codemirror_mode": {
    "name": "ipython",
    "version": 3
   },
   "file_extension": ".py",
   "mimetype": "text/x-python",
   "name": "python",
   "nbconvert_exporter": "python",
   "pygments_lexer": "ipython3",
   "version": "3.9.7"
  }
 },
 "nbformat": 4,
 "nbformat_minor": 5
}
